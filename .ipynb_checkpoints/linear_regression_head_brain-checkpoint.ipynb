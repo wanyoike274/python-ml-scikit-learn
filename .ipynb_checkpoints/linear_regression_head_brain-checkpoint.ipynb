{
 "cells": [
  {
   "cell_type": "code",
   "execution_count": 2,
   "id": "c45c61e4",
   "metadata": {},
   "outputs": [],
   "source": [
    "# implement the headbrain using scikit learn"
   ]
  },
  {
   "cell_type": "code",
   "execution_count": 12,
   "id": "1a036a39",
   "metadata": {},
   "outputs": [],
   "source": [
    "from sklearn.linear_model import LinearRegression\n",
    "from sklearn.metrics import mean_squared_error\n",
    "import pandas as pd"
   ]
  },
  {
   "cell_type": "code",
   "execution_count": 15,
   "id": "bf2d91d7",
   "metadata": {},
   "outputs": [],
   "source": [
    "#cannot use Rank 1 metrix in scikit learn\n",
    "data = pd.read_csv(\"headbrain.csv\")\n",
    "X1 = data[\"Head Size(cm^3)\"].values\n",
    "Y = data[\"Brain Weight(grams)\"].values\n",
    "m = len(X1)\n",
    "X = X1.reshape((m, 1))"
   ]
  },
  {
   "cell_type": "code",
   "execution_count": 16,
   "id": "71c57ee2",
   "metadata": {},
   "outputs": [
    {
     "name": "stdout",
     "output_type": "stream",
     "text": [
      "0.639311719957\n"
     ]
    }
   ],
   "source": [
    "# creating model\n",
    "reg = LinearRegression()\n",
    "#fitting training data\n",
    "reg1 = reg.fit(X, Y)\n",
    "#Y prediction\n",
    "Y_pred = reg.predict(X)\n",
    "#calculating R2 score\n",
    "r2_score = reg.score(X, Y)\n",
    "print (r2_score)"
   ]
  },
  {
   "cell_type": "code",
   "execution_count": null,
   "id": "84784557",
   "metadata": {},
   "outputs": [],
   "source": [
    "\n"
   ]
  },
  {
   "cell_type": "code",
   "execution_count": null,
   "id": "0efc03c9",
   "metadata": {},
   "outputs": [],
   "source": []
  }
 ],
 "metadata": {
  "kernelspec": {
   "display_name": "Python 3 (ipykernel)",
   "language": "python",
   "name": "python3"
  },
  "language_info": {
   "codemirror_mode": {
    "name": "ipython",
    "version": 3
   },
   "file_extension": ".py",
   "mimetype": "text/x-python",
   "name": "python",
   "nbconvert_exporter": "python",
   "pygments_lexer": "ipython3",
   "version": "3.8.10"
  }
 },
 "nbformat": 4,
 "nbformat_minor": 5
}
